{
 "cells": [
  {
   "cell_type": "markdown",
   "metadata": {},
   "source": [
    "# Analysis of market attractiveness and competitive landscape of the education sector in Mexico\n",
    " ## Specific asset to be analyzed:  Universidad del Valle de México (UVM)"
   ]
  },
  {
   "attachments": {},
   "cell_type": "markdown",
   "metadata": {},
   "source": [
    "## 1. Executive Summary\n",
    "\n",
    "1. The most recent period (2019-2020) indicates that the total number of \"New Applicants\" and \"Enrolled students\" in public institutions is larger than in private institutions.\n",
    "2. However, private institutions are attracting more “New applicants” and “Firs year students” for both onsite and online learning.\n",
    "3. The private-onsite education is highly concentrated, and Universidad del Valle de México (UVM) remains one of the top players.\n",
    "4. UVM faces an increasing demand for online learning. Also, the offered places for online learning at UVM has dramatically increased 4 times from the period 2018-2019 to the period 2019-2020. \n",
    "5. The latter suggests that **(i) UVM is attracting new applicants for online education, and (ii) UVM demonstrates ability to rapidly adapt to new market trends**. Based on the recent effects of the pandemic COVID-19 on online education, we could expect that **UVM will consolidate as a key player for online education in the forthcoming periods.**\n",
    "\n",
    "**As a conclusion, is is recommended to purchase the asset.**"
   ]
  },
  {
   "cell_type": "markdown",
   "metadata": {},
   "source": [
    "## 2. Prepare the Notebook\n",
    "### Load required libaries"
   ]
  },
  {
   "cell_type": "code",
   "execution_count": 1,
   "metadata": {},
   "outputs": [],
   "source": [
    "import pandas as pd\n",
    "import matplotlib.pyplot as plt\n",
    "import numpy as np\n",
    "from toolbox import read_and_process_data\n",
    "\n",
    "# Other charts will be displayed with plotly, for nice data visualization\n",
    "import seaborn as sns\n",
    "import orca\n",
    "import matplotlib.pyplot as plt\n",
    "import plotly\n",
    "import plotly.express as px\n",
    "import plotly.graph_objects as go\n",
    "from plotly.subplots import make_subplots\n",
    "\n",
    "#Connect to my chart_studio account\n",
    "import chart_studio.plotly as py\n",
    "py.sign_in('ssalas', 'D1r3FfKaNKi9sjBNyt8t')\n",
    "\n",
    "# create directories for saving images and processed csv files\n",
    "import os\n",
    "if not os.path.exists(\"images\"):\n",
    "    os.mkdir(\"images\")\n",
    "if not os.path.exists(\"files\"):\n",
    "    os.mkdir(\"files\")"
   ]
  },
  {
   "cell_type": "markdown",
   "metadata": {},
   "source": [
    "### Required libraries for runing the Notebook\n",
    "\n",
    "In case it is necessary, please install the following libraries. [Source](https://plotly.com/python/)"
   ]
  },
  {
   "cell_type": "code",
   "execution_count": 2,
   "metadata": {},
   "outputs": [],
   "source": [
    "#pip install chart_studio  # required to display the charts\n",
    "#pip install plotly # required to display the charts\n",
    "#pip install -U kaleido\n",
    "#pip install orca"
   ]
  },
  {
   "cell_type": "markdown",
   "metadata": {},
   "source": [
    "### Load data and preprocessing"
   ]
  },
  {
   "cell_type": "markdown",
   "metadata": {},
   "source": [
    "The data was extracted from Asociación de Asociación Nacional de Universidades e Instituciones de Educación Superior [ANUIES](http://www.anuies.mx/informacion-y-servicios/informacion-estadistica-de-educacion-superior/anuario-estadistico-de-educacion-superior) The data comprised several csv datasets that include information about the education landscape in Mexico. The selected periods are:\n",
    "- 2016-2017\n",
    "- 2017-2018\n",
    "- 2018-2019\n",
    "- 2019-2020\n",
    "\n",
    "The categories inspected are: \n",
    "- Offered places: refers to all available places offered by the Institutions for a given period\n",
    "- New applicants: this refers to \"First Year\" applicants for a given period\n",
    "- New students: also referred to as \"First Year\" students for a given period\n",
    "- Enrolled students: refers to all students enrolled in a program for a given period\n",
    "- Graduate students: refers to all students that have graduated from the program for a given period. This include students that have not received a Diploma\n",
    "- Graduate with Diploma: refers to all students that have graduated from the program and received a Diploma for a given period\n"
   ]
  },
  {
   "cell_type": "code",
   "execution_count": 3,
   "metadata": {},
   "outputs": [],
   "source": [
    "# define a dictionary of terms of the categories \n",
    "dict_terms = {\"Lugares Ofertados\":\"Offered_places\", \n",
    "              \"Solicitudes de Primer Ingreso Hombres\":\"Applications_First_Entry_Male\",\"Solicitudes de Primer Ingreso Mujeres\":\"Applications_First_Entry_Female\", \"Solicitudes de Primer Ingreso\":\"Applications_First_Entry_Total\",\n",
    "              \"Primer Ingreso Hombres\":\"First_Entry_Male\", \"Primer Ingreso Mujeres\": \"First_Entry_Female\",\"Primer Ingreso Total\":\"First_Entry_Total\", \n",
    "              \"Matrícula Hombres\":\"Enrollment_Male\",\"Matrícula Mujeres\":\"Enrollment_women\",\"Matrícula Total\": \"Enrollment_Total\", \n",
    "              \"Egresados Hombres\": \"All_Graduate_Male\",\"Egresados Mujeres\": \"All_Graduate_Female\",\"Egresados Total\": \"All_Graduate\",\n",
    "              \"Titulados Hombres\": \"Graduate_with_Diploma_Male\",\"Titulados Mujeres\": \"Graduate_with_Diploma_Female\",\"Titulados Total\": \"Graduate_with_Diploma_Total\"}\n"
   ]
  },
  {
   "cell_type": "code",
   "execution_count": 4,
   "metadata": {},
   "outputs": [
    {
     "name": "stdout",
     "output_type": "stream",
     "text": [
      "Processing =  ./bases_de_datos/Ciclo_2016-2017_Instituciones_Privadas_Escolarizado.xlsx\n",
      "Data does not contain missing values.\n",
      "Dimensions of raw  dataframe =  (16865, 21)\n",
      "Dimensions of Institute level dataframe =  (2179, 19)\n",
      "Dimensions of program level dataframe =  (11816, 21)\n",
      "******* done *********\n",
      "Processing =  ./bases_de_datos/Ciclo_2017-2018_Instituciones_Privadas_Escolarizado.xlsx\n",
      "Data does not contain missing values.\n",
      "Dimensions of raw  dataframe =  (17325, 21)\n",
      "Dimensions of Institute level dataframe =  (2256, 19)\n",
      "Dimensions of program level dataframe =  (12095, 21)\n",
      "******* done *********\n",
      "Processing =  ./bases_de_datos/Ciclo_2018-2019_Instituciones_Privadas_Escolarizado.xlsx\n",
      "Data does not contain missing values.\n",
      "Dimensions of raw  dataframe =  (19786, 21)\n",
      "Dimensions of Institute level dataframe =  (2562, 19)\n",
      "Dimensions of program level dataframe =  (13937, 21)\n",
      "******* done *********\n",
      "Processing =  ./bases_de_datos/Ciclo_2019-2020_Instituciones_Privadas_Escolarizado.xlsx\n",
      "Data does not contain missing values.\n",
      "Dimensions of raw  dataframe =  (18384, 21)\n",
      "Dimensions of Institute level dataframe =  (3122, 19)\n",
      "Dimensions of program level dataframe =  (18384, 21)\n",
      "******* done *********\n"
     ]
    }
   ],
   "source": [
    "# Extract databases. df1, df2, df3 correspond to institute_level dataframes\n",
    "# df01, df02, df03 correspond to program_level dataframes\n",
    "# onsite data\n",
    "\n",
    "path=\"./bases_de_datos/\"\n",
    "filename=\"Ciclo_2016-2017_Instituciones_Privadas_Escolarizado\"\n",
    "filepath=path+filename+\".xlsx\"\n",
    "df1, df01 = read_and_process_data(filepath)\n",
    "filename=\"Ciclo_2017-2018_Instituciones_Privadas_Escolarizado\"\n",
    "filepath=path+filename+\".xlsx\"\n",
    "df2, df02 = read_and_process_data(filepath)\n",
    "filename=\"Ciclo_2018-2019_Instituciones_Privadas_Escolarizado\"\n",
    "filepath=path+filename+\".xlsx\"\n",
    "df3, df03 = read_and_process_data(filepath)\n",
    "filename=\"Ciclo_2019-2020_Instituciones_Privadas_Escolarizado\"\n",
    "filepath=path+filename+\".xlsx\"\n",
    "df4, df04 = read_and_process_data(filepath, last_version=True)"
   ]
  },
  {
   "cell_type": "code",
   "execution_count": 5,
   "metadata": {},
   "outputs": [
    {
     "name": "stdout",
     "output_type": "stream",
     "text": [
      "Processing =  ./bases_de_datos/Ciclo_2016-2017_Instituciones_Privadas_No_Escolarizado.xlsx\n",
      "Data does not contain missing values.\n",
      "Dimensions of raw  dataframe =  (5896, 21)\n",
      "Dimensions of Institute level dataframe =  (937, 19)\n",
      "Dimensions of program level dataframe =  (3678, 21)\n",
      "******* done *********\n",
      "Processing =  ./bases_de_datos/Ciclo_2017-2018_Instituciones_Privadas_No_Escolarizado.xlsx\n",
      "Data does not contain missing values.\n",
      "Dimensions of raw  dataframe =  (6564, 21)\n",
      "Dimensions of Institute level dataframe =  (1037, 19)\n",
      "Dimensions of program level dataframe =  (4118, 21)\n",
      "******* done *********\n",
      "Processing =  ./bases_de_datos/Ciclo_2018-2019_Instituciones_Privadas_No_Escolarizado.xlsx\n",
      "Data does not contain missing values.\n",
      "Dimensions of raw  dataframe =  (8366, 21)\n",
      "Dimensions of Institute level dataframe =  (1263, 19)\n",
      "Dimensions of program level dataframe =  (5413, 21)\n",
      "******* done *********\n",
      "Processing =  ./bases_de_datos/Ciclo_2019-2020_Instituciones_Privadas_No_Escolarizado.xlsx\n",
      "Data does not contain missing values.\n",
      "Dimensions of raw  dataframe =  (8659, 21)\n",
      "Dimensions of Institute level dataframe =  (1751, 19)\n",
      "Dimensions of program level dataframe =  (8659, 21)\n",
      "******* done *********\n"
     ]
    }
   ],
   "source": [
    "# online data\n",
    "path=\"./bases_de_datos/\"\n",
    "filename=\"Ciclo_2016-2017_Instituciones_Privadas_No_Escolarizado\"\n",
    "filepath=path+filename+\".xlsx\"\n",
    "df1_online, df01_online = read_and_process_data(filepath)\n",
    "filename=\"Ciclo_2017-2018_Instituciones_Privadas_No_Escolarizado\"\n",
    "filepath=path+filename+\".xlsx\"\n",
    "df2_online, df02_online = read_and_process_data(filepath)\n",
    "filename=\"Ciclo_2018-2019_Instituciones_Privadas_No_Escolarizado\"\n",
    "filepath=path+filename+\".xlsx\"\n",
    "df3_online, df03_online = read_and_process_data(filepath, skiprows=[0])\n",
    "filename=\"Ciclo_2019-2020_Instituciones_Privadas_No_Escolarizado\"\n",
    "filepath=path+filename+\".xlsx\"\n",
    "df4_online, df04_online = read_and_process_data(filepath, last_version=True)"
   ]
  },
  {
   "cell_type": "code",
   "execution_count": 6,
   "metadata": {},
   "outputs": [
    {
     "name": "stdout",
     "output_type": "stream",
     "text": [
      "Processing =  ./bases_de_datos/Ciclo_2016-2017_Instituciones_Publicas_Escolarizado.xlsx\n",
      "Data does not contain missing values.\n",
      "Dimensions of raw  dataframe =  (12836, 21)\n",
      "Dimensions of Institute level dataframe =  (1267, 19)\n",
      "Dimensions of program level dataframe =  (8994, 21)\n",
      "******* done *********\n",
      "Processing =  ./bases_de_datos/Ciclo_2017-2018_Instituciones_Publicas_Escolarizado.xlsx\n",
      "Data does not contain missing values.\n",
      "Dimensions of raw  dataframe =  (13100, 21)\n",
      "Dimensions of Institute level dataframe =  (1298, 19)\n",
      "Dimensions of program level dataframe =  (9187, 21)\n",
      "******* done *********\n",
      "Processing =  ./bases_de_datos/Ciclo_2018-2019_Instituciones_Publicas_Escolarizado.xlsx\n",
      "Data does not contain missing values.\n",
      "Dimensions of raw  dataframe =  (13884, 21)\n",
      "Dimensions of Institute level dataframe =  (1325, 19)\n",
      "Dimensions of program level dataframe =  (9881, 21)\n",
      "******* done *********\n",
      "Processing =  ./bases_de_datos/Ciclo_2019-2020_Instituciones_Publicas_Escolarizado.xlsx\n",
      "Data does not contain missing values.\n",
      "Dimensions of raw  dataframe =  (14120, 21)\n",
      "Dimensions of Institute level dataframe =  (2277, 19)\n",
      "Dimensions of program level dataframe =  (14120, 21)\n",
      "******* done *********\n"
     ]
    }
   ],
   "source": [
    "# onsite data\n",
    "path=\"./bases_de_datos/\"\n",
    "filename=\"Ciclo_2016-2017_Instituciones_Publicas_Escolarizado\"\n",
    "filepath=path+filename+\".xlsx\"\n",
    "df1_pub, df01_pub = read_and_process_data(filepath)\n",
    "filename=\"Ciclo_2017-2018_Instituciones_Publicas_Escolarizado\"\n",
    "filepath=path+filename+\".xlsx\"\n",
    "df2_pub, df02_pub = read_and_process_data(filepath)\n",
    "filename=\"Ciclo_2018-2019_Instituciones_Publicas_Escolarizado\"\n",
    "filepath=path+filename+\".xlsx\"\n",
    "df3_pub, df03_pub = read_and_process_data(filepath)\n",
    "filename=\"Ciclo_2019-2020_Instituciones_Publicas_Escolarizado\"\n",
    "filepath=path+filename+\".xlsx\"\n",
    "df4_pub, df04_pub = read_and_process_data(filepath, last_version=True)"
   ]
  },
  {
   "cell_type": "code",
   "execution_count": 7,
   "metadata": {},
   "outputs": [
    {
     "name": "stdout",
     "output_type": "stream",
     "text": [
      "Processing =  ./bases_de_datos/Ciclo_2016-2017_Instituciones_Publicas_No_Escolarizado.xlsx\n",
      "Data does not contain missing values.\n",
      "Dimensions of raw  dataframe =  (1903, 21)\n",
      "Dimensions of Institute level dataframe =  (317, 19)\n",
      "Dimensions of program level dataframe =  (961, 21)\n",
      "******* done *********\n",
      "Processing =  ./bases_de_datos/Ciclo_2017-2018_Instituciones_Publicas_No_Escolarizado.xlsx\n",
      "Data does not contain missing values.\n",
      "Dimensions of raw  dataframe =  (2018, 21)\n",
      "Dimensions of Institute level dataframe =  (334, 19)\n",
      "Dimensions of program level dataframe =  (1025, 21)\n",
      "******* done *********\n",
      "Processing =  ./bases_de_datos/Ciclo_2018-2019_Instituciones_Publicas_No_Escolarizado.xlsx\n",
      "Data does not contain missing values.\n",
      "Dimensions of raw  dataframe =  (2219, 21)\n",
      "Dimensions of Institute level dataframe =  (351, 19)\n",
      "Dimensions of program level dataframe =  (1178, 21)\n",
      "******* done *********\n",
      "Processing =  ./bases_de_datos/Ciclo_2019-2020_Instituciones_Publicas_No_Escolarizado.xlsx\n",
      "Data does not contain missing values.\n",
      "Dimensions of raw  dataframe =  (1633, 21)\n",
      "Dimensions of Institute level dataframe =  (566, 19)\n",
      "Dimensions of program level dataframe =  (1633, 21)\n",
      "******* done *********\n"
     ]
    }
   ],
   "source": [
    "# online data\n",
    "path=\"./bases_de_datos/\"\n",
    "filename=\"Ciclo_2016-2017_Instituciones_Publicas_No_Escolarizado\"\n",
    "filepath=path+filename+\".xlsx\"\n",
    "df1_pub_online, df01_pub_online = read_and_process_data(filepath)\n",
    "filename=\"Ciclo_2017-2018_Instituciones_Publicas_No_Escolarizado\"\n",
    "filepath=path+filename+\".xlsx\"\n",
    "df2_pub_online, df02_pub_online = read_and_process_data(filepath)\n",
    "filename=\"Ciclo_2018-2019_Instituciones_Publicas_No_Escolarizado\"\n",
    "filepath=path+filename+\".xlsx\"\n",
    "df3_pub_online, df03_pub_online = read_and_process_data(filepath)\n",
    "filename=\"Ciclo_2019-2020_Instituciones_Publicas_No_Escolarizado\"\n",
    "filepath=path+filename+\".xlsx\"\n",
    "df4_pub_online, df04_pub_online = read_and_process_data(filepath, last_version=True)"
   ]
  },
  {
   "cell_type": "markdown",
   "metadata": {},
   "source": [
    "#### Validate 2016-2017 version\n",
    "\n",
    "According to ANNUIES web page, version 2016-2017 of SEP incorrectly classified some institutes as \"private\". \n",
    "The following institutes were checked if they were not classified incorrectly (as \"private\") in the ANNUIES version:\n",
    "\n",
    "- “Centro de Actualización del Magisterio” of Chiapas.\n",
    "- “Facultad Latinoamericana de Ciencias Sociales” (FLACSO) of Mexico city.\n",
    "- “Centro de Capacitación en Ciencias Forenses” of Jalisco.\n",
    "- “Instituto Mexiquense de Seguridad y Justicia, Plantel de Formación y Actualización” of the State of Mexico\n",
    "- “Centro de Capacitación del Instituto Estatal Electoral de Nayarit” of Jalisco"
   ]
  },
  {
   "cell_type": "code",
   "execution_count": 8,
   "metadata": {},
   "outputs": [
    {
     "data": {
      "text/html": [
       "<div>\n",
       "<style scoped>\n",
       "    .dataframe tbody tr th:only-of-type {\n",
       "        vertical-align: middle;\n",
       "    }\n",
       "\n",
       "    .dataframe tbody tr th {\n",
       "        vertical-align: top;\n",
       "    }\n",
       "\n",
       "    .dataframe thead th {\n",
       "        text-align: right;\n",
       "    }\n",
       "</style>\n",
       "<table border=\"1\" class=\"dataframe\">\n",
       "  <thead>\n",
       "    <tr style=\"text-align: right;\">\n",
       "      <th></th>\n",
       "      <th>State</th>\n",
       "      <th>Municipality</th>\n",
       "      <th>Institute</th>\n",
       "      <th>Offered_places</th>\n",
       "      <th>Applications_First_Entry_Male</th>\n",
       "      <th>Applications_First_Entry_Female</th>\n",
       "      <th>Applications_First_Entry_Total</th>\n",
       "      <th>First_Entry_Male</th>\n",
       "      <th>First_Entry_Female</th>\n",
       "      <th>First_Entry_Total</th>\n",
       "      <th>Enrollment_Male</th>\n",
       "      <th>Enrollment_women</th>\n",
       "      <th>Enrollment_Total</th>\n",
       "      <th>All_Graduate_Male</th>\n",
       "      <th>All_Graduate_Female</th>\n",
       "      <th>All_Graduate</th>\n",
       "      <th>Graduate_with_Diploma_Male</th>\n",
       "      <th>Graduate_with_Diploma_Female</th>\n",
       "      <th>Graduate_with_Diploma_Total</th>\n",
       "    </tr>\n",
       "  </thead>\n",
       "  <tbody>\n",
       "  </tbody>\n",
       "</table>\n",
       "</div>"
      ],
      "text/plain": [
       "Empty DataFrame\n",
       "Columns: [State, Municipality, Institute, Offered_places, Applications_First_Entry_Male, Applications_First_Entry_Female, Applications_First_Entry_Total, First_Entry_Male, First_Entry_Female, First_Entry_Total, Enrollment_Male, Enrollment_women, Enrollment_Total, All_Graduate_Male, All_Graduate_Female, All_Graduate, Graduate_with_Diploma_Male, Graduate_with_Diploma_Female, Graduate_with_Diploma_Total]\n",
       "Index: []"
      ]
     },
     "execution_count": 8,
     "metadata": {},
     "output_type": "execute_result"
    }
   ],
   "source": [
    "#df1['State'].unique() # print name of states\n",
    "#df1[(df1['State']==\"CHIAPAS\") & (df1['Name'].str.startswith(\"CENTRO DE\"))]  # alternative option\n",
    "df1[(df1['State']==\"CHIAPAS\") & (df1['Institute']==\"CENTRO DE ACTUALIZACION DEL MAGISTERIO\")]\n",
    "df1[df1['Institute']==\"FACULTAD LATINOAMERICANAS DE CIENCIAS SOCIALES\"]\n",
    "df1[(df1['State']==\"JALISCO\") & (df1['Institute']==\"CENTRO DE CAPACITACIÓN EN CIENCAS FORENSES\")]\n",
    "df1[(df1['State']==\"MÉXICO\") & (df1['Institute']==\"CENTRO DE CAPACITACIÓN EN CIENCAS FORENSES\")]\n",
    "df1[(df1['State']==\"JALISCO\") & (df1['Institute']==\"CENTRO DE CAPACITACIÓN DEL INSTITUTO ELECTORAL DE NAYARIT\")]"
   ]
  },
  {
   "cell_type": "markdown",
   "metadata": {},
   "source": [
    "### Merge all datasets into a single one"
   ]
  },
  {
   "cell_type": "code",
   "execution_count": 9,
   "metadata": {},
   "outputs": [],
   "source": [
    "#define function to add count, period and modality to dataframe\n",
    "def process_df(df, period, modality):\n",
    "    df['Count'] = 1\n",
    "    df['period'] = period\n",
    "    df['modality'] = modality\n",
    "    return df\n",
    "# append dataframes one by one\n",
    "def append_df(dfs_init, dfs, periods, modality, length_counter):\n",
    "    for idx in range(len(dfs)):\n",
    "        new_df = process_df(dfs[idx], periods[idx], modality=modality)\n",
    "        dfs_init=dfs_init.append(new_df, ignore_index=True)\n",
    "        length_counter += len(new_df)\n",
    "    #print(length_counter) # use this to validate size\n",
    "    return dfs_init\n",
    "\n",
    "\n",
    "# append private onsite\n",
    "dfs_init = process_df(df1, period=\"2016-2017\", modality=\"private-onsite\")\n",
    "dfs_all_private_onsite = append_df(dfs_init, dfs=[df2,df3,df4], periods=[\"2017-2018\",\"2018-2019\",\"2019-2020\"], modality=\"private-onsite\",length_counter=len(dfs_init))\n",
    "# append private online\n",
    "dfs_init2 = dfs_all_private_onsite\n",
    "dfs_all_private = append_df(dfs_init2, dfs=[df1_online,df2_online,df3_online,df4_online], periods=[\"2016-2017\",\"2017-2018\",\"2018-2019\",\"2019-2020\"], modality=\"private-online\",length_counter=len(dfs_init2))\n",
    "# append public onsite\n",
    "dfs_init3 = dfs_all_private\n",
    "dfs_all = append_df(dfs_init3, dfs=[df1_pub,df2_pub,df3_pub,df4_pub], periods=[\"2016-2017\",\"2017-2018\",\"2018-2019\",\"2019-2020\"], modality=\"public-onsite\",length_counter=len(dfs_init3))\n",
    "# append public online\n",
    "dfs_init4 = dfs_all\n",
    "dfs_all = append_df(dfs_init4, dfs=[df1_pub_online,df2_pub_online,df3_pub_online,df4_pub_online], periods=[\"2016-2017\",\"2017-2018\",\"2018-2019\",\"2019-2020\"], modality=\"public-online\",length_counter=len(dfs_init4))\n",
    "# Write csv. Store information for use in other projects or Notebooks\n",
    "dfs_all.to_csv('./files/complete_data.csv',index=False)"
   ]
  },
  {
   "cell_type": "markdown",
   "metadata": {},
   "source": [
    "## 3. Analysis"
   ]
  },
  {
   "attachments": {},
   "cell_type": "markdown",
   "metadata": {},
   "source": [
    "### Total students by type of institutions (2019-2020)\n",
    "\n",
    "The following graph displays the total number of students for the period 2019-2020, by category. Overall, more students study in public institutions than in private institutions. The population of \"New applicants\" and \"Enrolled students\" in public institutions is double than in private institutions.  "
   ]
  },
  {
   "cell_type": "code",
   "execution_count": 10,
   "metadata": {},
   "outputs": [
    {
     "data": {
      "text/html": [
       "\n",
       "        <iframe\n",
       "            width=\"100%\"\n",
       "            height=\"525px\"\n",
       "            src=\"https://plotly.com/~svaldes.salas/637.embed\"\n",
       "            frameborder=\"0\"\n",
       "            allowfullscreen\n",
       "        ></iframe>\n",
       "        "
      ],
      "text/plain": [
       "<IPython.lib.display.IFrame at 0x7fda896da450>"
      ]
     },
     "execution_count": 10,
     "metadata": {},
     "output_type": "execute_result"
    }
   ],
   "source": [
    "from graphs import graph1\n",
    "graph1(df4, df4_pub, df4_online, df4_pub_online)"
   ]
  },
  {
   "cell_type": "markdown",
   "metadata": {},
   "source": [
    "### Total students in private institutions (onsite and online modalities)\n",
    "\n",
    "If we look at the total number of students by category in private institutions, over the four periods that are been analyzed, we can see that the category \"Enrolled students\" has an upward trend, especially for the last two periods. We can say the same for \"New applicants\" and \"New students\" (first year students). "
   ]
  },
  {
   "cell_type": "code",
   "execution_count": 11,
   "metadata": {},
   "outputs": [
    {
     "data": {
      "text/html": [
       "\n",
       "        <iframe\n",
       "            width=\"100%\"\n",
       "            height=\"525px\"\n",
       "            src=\"https://plotly.com/~svaldes.salas/639.embed\"\n",
       "            frameborder=\"0\"\n",
       "            allowfullscreen\n",
       "        ></iframe>\n",
       "        "
      ],
      "text/plain": [
       "<IPython.lib.display.IFrame at 0x7fda89e29590>"
      ]
     },
     "execution_count": 11,
     "metadata": {},
     "output_type": "execute_result"
    }
   ],
   "source": [
    "from graphs import graph2\n",
    "graph2(df1, df1_online, df2, df2_online, df3, df3_online, df4, df4_online)"
   ]
  },
  {
   "cell_type": "markdown",
   "metadata": {},
   "source": [
    "### Change of new applications and new students by type of institution and modality (onsite and online)\n",
    "\n",
    "\"New applicants\" and \"New students\" (first year students) are useful categories; they can give us an idea of how much the market is growing and what could we expect for the forthcoming periods. The graph below tells us that the number of \"New Applicants\" and \"New students\" in **private institutions** has been constantly growing for the past four periods. "
   ]
  },
  {
   "cell_type": "code",
   "execution_count": 12,
   "metadata": {},
   "outputs": [
    {
     "data": {
      "text/html": [
       "\n",
       "        <iframe\n",
       "            width=\"100%\"\n",
       "            height=\"525px\"\n",
       "            src=\"https://plotly.com/~svaldes.salas/641.embed\"\n",
       "            frameborder=\"0\"\n",
       "            allowfullscreen\n",
       "        ></iframe>\n",
       "        "
      ],
      "text/plain": [
       "<IPython.lib.display.IFrame at 0x7fda89b82f10>"
      ]
     },
     "execution_count": 12,
     "metadata": {},
     "output_type": "execute_result"
    }
   ],
   "source": [
    "from graphs import graph3\n",
    "graph3(df1,df1_online,df2,df2_online,df3,df3_online,df4,df4_online,df1_pub,df1_pub_online,df2_pub,df2_pub_online,df3_pub,df3_pub_online,df4_pub,df4_pub_online)\n"
   ]
  },
  {
   "cell_type": "markdown",
   "metadata": {},
   "source": [
    "### Change of new applications and new students by type of institution (onsite modality)\n",
    "\n",
    "If we look at the same data as below, but only for **onsite education**, there is a clear increasing trend in both private and public institutions."
   ]
  },
  {
   "cell_type": "code",
   "execution_count": 13,
   "metadata": {},
   "outputs": [
    {
     "data": {
      "text/html": [
       "\n",
       "        <iframe\n",
       "            width=\"100%\"\n",
       "            height=\"525px\"\n",
       "            src=\"https://plotly.com/~svaldes.salas/643.embed\"\n",
       "            frameborder=\"0\"\n",
       "            allowfullscreen\n",
       "        ></iframe>\n",
       "        "
      ],
      "text/plain": [
       "<IPython.lib.display.IFrame at 0x7fda89e56210>"
      ]
     },
     "execution_count": 13,
     "metadata": {},
     "output_type": "execute_result"
    }
   ],
   "source": [
    "from graphs import graph4\n",
    "graph4(df1,df2,df3,df4,df1_pub,df2_pub,df3_pub,df4_pub)"
   ]
  },
  {
   "cell_type": "markdown",
   "metadata": {},
   "source": [
    "### Change of new applications and new students by type of institution (online modality)\n",
    "\n",
    "However, by looking at the same information as below, but only for **online education**, private institutions seem to report an increasing trend, while public institutions have diverging trends. In other words, **private institutions are atracting more and more new applicants and new students.**"
   ]
  },
  {
   "cell_type": "code",
   "execution_count": 14,
   "metadata": {},
   "outputs": [
    {
     "data": {
      "text/html": [
       "\n",
       "        <iframe\n",
       "            width=\"100%\"\n",
       "            height=\"525px\"\n",
       "            src=\"https://plotly.com/~svaldes.salas/645.embed\"\n",
       "            frameborder=\"0\"\n",
       "            allowfullscreen\n",
       "        ></iframe>\n",
       "        "
      ],
      "text/plain": [
       "<IPython.lib.display.IFrame at 0x7fda89021590>"
      ]
     },
     "execution_count": 14,
     "metadata": {},
     "output_type": "execute_result"
    }
   ],
   "source": [
    "from graphs import graph5\n",
    "graph5(df1_online,df2_online,df3_online,df4_online,df1_pub_online,df2_pub_online,df3_pub_online,df4_pub_online)"
   ]
  },
  {
   "cell_type": "markdown",
   "metadata": {},
   "source": [
    "### Total students on private institutions in onsite and online modalities (2016-2017 and 2019-2020)¶\n",
    "\n",
    "Now let's dive into private education. Online-private education remains lower than onsite-private education: the total number of students enrolled in onsite-private education is 2 times larger than the total number of students enrolled in online-private education. \n",
    "\n",
    "Nonetheless, the number of **\"Enrolled students\" in private-online education** has grew 85% between 2016-2017 and 2019-2020, whereas the number of \"Enrolled students\" in private-onsite education grew 23% for the same period.\n"
   ]
  },
  {
   "cell_type": "code",
   "execution_count": 17,
   "metadata": {},
   "outputs": [
    {
     "name": "stdout",
     "output_type": "stream",
     "text": [
      "Enrolled students in private-onsite education grew = 23.5%\n",
      "Enrolled students in private-online education grew = 85.2%\n"
     ]
    },
    {
     "data": {
      "text/html": [
       "\n",
       "        <iframe\n",
       "            width=\"100%\"\n",
       "            height=\"525px\"\n",
       "            src=\"https://plotly.com/~svaldes.salas/647.embed\"\n",
       "            frameborder=\"0\"\n",
       "            allowfullscreen\n",
       "        ></iframe>\n",
       "        "
      ],
      "text/plain": [
       "<IPython.lib.display.IFrame at 0x7fda8a2c22d0>"
      ]
     },
     "execution_count": 17,
     "metadata": {},
     "output_type": "execute_result"
    }
   ],
   "source": [
    "from graphs import graph6\n",
    "graph6(df1,df1_online,df4,df4_online)"
   ]
  },
  {
   "cell_type": "markdown",
   "metadata": {},
   "source": [
    "## 2. Analysis of the Asset's trends\n",
    "\n",
    "Let's dive into the characteristics of the Asset UVM."
   ]
  },
  {
   "cell_type": "code",
   "execution_count": 19,
   "metadata": {},
   "outputs": [],
   "source": [
    "# filter UVM from complete dataframe\n",
    "dfs_UVM_final = dfs_all[dfs_all['Institute']==\"UNIVERSIDAD DEL VALLE DE MÉXICO\"]\n",
    "\n",
    "# Write csv. Store information for use in other projects or Notebooks\n",
    "dfs_UVM_final.to_csv('./files/complete_data_UVM.csv',index=False)"
   ]
  },
  {
   "cell_type": "code",
   "execution_count": 20,
   "metadata": {},
   "outputs": [
    {
     "name": "stdout",
     "output_type": "stream",
     "text": [
      "UVM institute not in this dataset.\n",
      "UVM institute not in this dataset.\n",
      "UVM institute not in this dataset.\n",
      "UVM institute not in this dataset.\n",
      "UVM institute not in this dataset.\n",
      "UVM institute not in this dataset.\n",
      "UVM institute not in this dataset.\n",
      "UVM institute not in this dataset.\n"
     ]
    }
   ],
   "source": [
    "# UVM is a private institution\n",
    "# Corrobrate UVM is not in any public-Insitute dataset\n",
    "dfs = [df1_pub,df2_pub,df3_pub,df4_pub,df1_pub_online,df2_pub_online,df3_pub_online,df4_pub_online]\n",
    "for idx in range(len(dfs)):\n",
    "    if len(dfs[idx][(dfs[idx]['Institute']==\"UNIVERSIDAD DEL VALLE DE MÉXICO\")]) !=0:\n",
    "        print(dfs[idx][(dfs[idx]['Institute']==\"UNIVERSIDAD DEL VALLE DE MÉXICO\")])\n",
    "    else:\n",
    "        print(\"UVM institute not in this dataset.\")"
   ]
  },
  {
   "cell_type": "code",
   "execution_count": 21,
   "metadata": {},
   "outputs": [],
   "source": [
    "# Display info\n",
    "#dfs_UVM_final.info()"
   ]
  },
  {
   "cell_type": "code",
   "execution_count": 22,
   "metadata": {},
   "outputs": [
    {
     "data": {
      "text/html": [
       "<div>\n",
       "<style scoped>\n",
       "    .dataframe tbody tr th:only-of-type {\n",
       "        vertical-align: middle;\n",
       "    }\n",
       "\n",
       "    .dataframe tbody tr th {\n",
       "        vertical-align: top;\n",
       "    }\n",
       "\n",
       "    .dataframe thead th {\n",
       "        text-align: right;\n",
       "    }\n",
       "</style>\n",
       "<table border=\"1\" class=\"dataframe\">\n",
       "  <thead>\n",
       "    <tr style=\"text-align: right;\">\n",
       "      <th></th>\n",
       "      <th>Offered_places</th>\n",
       "      <th>Applications_First_Entry_Male</th>\n",
       "      <th>Applications_First_Entry_Female</th>\n",
       "      <th>Applications_First_Entry_Total</th>\n",
       "      <th>First_Entry_Male</th>\n",
       "      <th>First_Entry_Female</th>\n",
       "      <th>First_Entry_Total</th>\n",
       "      <th>Enrollment_Male</th>\n",
       "      <th>Enrollment_women</th>\n",
       "      <th>Enrollment_Total</th>\n",
       "      <th>All_Graduate_Male</th>\n",
       "      <th>All_Graduate_Female</th>\n",
       "      <th>All_Graduate</th>\n",
       "      <th>Graduate_with_Diploma_Male</th>\n",
       "      <th>Graduate_with_Diploma_Female</th>\n",
       "      <th>Graduate_with_Diploma_Total</th>\n",
       "      <th>Count</th>\n",
       "    </tr>\n",
       "  </thead>\n",
       "  <tbody>\n",
       "    <tr>\n",
       "      <th>count</th>\n",
       "      <td>264.000000</td>\n",
       "      <td>264.000000</td>\n",
       "      <td>264.000000</td>\n",
       "      <td>264.000000</td>\n",
       "      <td>264.000000</td>\n",
       "      <td>264.000000</td>\n",
       "      <td>264.000000</td>\n",
       "      <td>264.000000</td>\n",
       "      <td>264.000000</td>\n",
       "      <td>264.000000</td>\n",
       "      <td>264.000000</td>\n",
       "      <td>264.000000</td>\n",
       "      <td>264.000000</td>\n",
       "      <td>264.000000</td>\n",
       "      <td>264.000000</td>\n",
       "      <td>264.000000</td>\n",
       "      <td>264.0</td>\n",
       "    </tr>\n",
       "    <tr>\n",
       "      <th>mean</th>\n",
       "      <td>386.515152</td>\n",
       "      <td>195.632576</td>\n",
       "      <td>197.015152</td>\n",
       "      <td>392.647727</td>\n",
       "      <td>152.765152</td>\n",
       "      <td>150.314394</td>\n",
       "      <td>303.079545</td>\n",
       "      <td>526.939394</td>\n",
       "      <td>541.386364</td>\n",
       "      <td>1068.325758</td>\n",
       "      <td>80.348485</td>\n",
       "      <td>90.227273</td>\n",
       "      <td>170.575758</td>\n",
       "      <td>55.231061</td>\n",
       "      <td>63.087121</td>\n",
       "      <td>118.318182</td>\n",
       "      <td>1.0</td>\n",
       "    </tr>\n",
       "    <tr>\n",
       "      <th>std</th>\n",
       "      <td>962.927855</td>\n",
       "      <td>449.189762</td>\n",
       "      <td>487.971669</td>\n",
       "      <td>934.234735</td>\n",
       "      <td>381.728774</td>\n",
       "      <td>421.103705</td>\n",
       "      <td>800.276429</td>\n",
       "      <td>694.250788</td>\n",
       "      <td>734.291279</td>\n",
       "      <td>1420.135700</td>\n",
       "      <td>90.299248</td>\n",
       "      <td>103.393493</td>\n",
       "      <td>191.385408</td>\n",
       "      <td>65.834246</td>\n",
       "      <td>75.299680</td>\n",
       "      <td>139.396653</td>\n",
       "      <td>0.0</td>\n",
       "    </tr>\n",
       "    <tr>\n",
       "      <th>min</th>\n",
       "      <td>0.000000</td>\n",
       "      <td>0.000000</td>\n",
       "      <td>0.000000</td>\n",
       "      <td>0.000000</td>\n",
       "      <td>0.000000</td>\n",
       "      <td>0.000000</td>\n",
       "      <td>0.000000</td>\n",
       "      <td>0.000000</td>\n",
       "      <td>0.000000</td>\n",
       "      <td>0.000000</td>\n",
       "      <td>0.000000</td>\n",
       "      <td>0.000000</td>\n",
       "      <td>0.000000</td>\n",
       "      <td>0.000000</td>\n",
       "      <td>0.000000</td>\n",
       "      <td>0.000000</td>\n",
       "      <td>1.0</td>\n",
       "    </tr>\n",
       "    <tr>\n",
       "      <th>25%</th>\n",
       "      <td>50.000000</td>\n",
       "      <td>21.750000</td>\n",
       "      <td>23.000000</td>\n",
       "      <td>46.000000</td>\n",
       "      <td>20.500000</td>\n",
       "      <td>21.000000</td>\n",
       "      <td>40.000000</td>\n",
       "      <td>97.000000</td>\n",
       "      <td>84.500000</td>\n",
       "      <td>180.000000</td>\n",
       "      <td>19.000000</td>\n",
       "      <td>16.750000</td>\n",
       "      <td>41.250000</td>\n",
       "      <td>11.000000</td>\n",
       "      <td>12.000000</td>\n",
       "      <td>23.000000</td>\n",
       "      <td>1.0</td>\n",
       "    </tr>\n",
       "    <tr>\n",
       "      <th>50%</th>\n",
       "      <td>178.000000</td>\n",
       "      <td>81.000000</td>\n",
       "      <td>76.500000</td>\n",
       "      <td>152.500000</td>\n",
       "      <td>69.500000</td>\n",
       "      <td>67.000000</td>\n",
       "      <td>139.000000</td>\n",
       "      <td>293.500000</td>\n",
       "      <td>283.500000</td>\n",
       "      <td>623.000000</td>\n",
       "      <td>48.500000</td>\n",
       "      <td>57.000000</td>\n",
       "      <td>100.500000</td>\n",
       "      <td>33.500000</td>\n",
       "      <td>34.500000</td>\n",
       "      <td>72.000000</td>\n",
       "      <td>1.0</td>\n",
       "    </tr>\n",
       "    <tr>\n",
       "      <th>75%</th>\n",
       "      <td>435.750000</td>\n",
       "      <td>213.000000</td>\n",
       "      <td>202.000000</td>\n",
       "      <td>398.250000</td>\n",
       "      <td>173.250000</td>\n",
       "      <td>163.250000</td>\n",
       "      <td>337.750000</td>\n",
       "      <td>691.250000</td>\n",
       "      <td>685.000000</td>\n",
       "      <td>1363.750000</td>\n",
       "      <td>109.250000</td>\n",
       "      <td>119.000000</td>\n",
       "      <td>225.250000</td>\n",
       "      <td>75.000000</td>\n",
       "      <td>82.500000</td>\n",
       "      <td>162.250000</td>\n",
       "      <td>1.0</td>\n",
       "    </tr>\n",
       "    <tr>\n",
       "      <th>max</th>\n",
       "      <td>14037.000000</td>\n",
       "      <td>5640.000000</td>\n",
       "      <td>6437.000000</td>\n",
       "      <td>12077.000000</td>\n",
       "      <td>5639.000000</td>\n",
       "      <td>6437.000000</td>\n",
       "      <td>12076.000000</td>\n",
       "      <td>6534.000000</td>\n",
       "      <td>7276.000000</td>\n",
       "      <td>13810.000000</td>\n",
       "      <td>455.000000</td>\n",
       "      <td>549.000000</td>\n",
       "      <td>985.000000</td>\n",
       "      <td>366.000000</td>\n",
       "      <td>393.000000</td>\n",
       "      <td>757.000000</td>\n",
       "      <td>1.0</td>\n",
       "    </tr>\n",
       "  </tbody>\n",
       "</table>\n",
       "</div>"
      ],
      "text/plain": [
       "       Offered_places  Applications_First_Entry_Male  \\\n",
       "count      264.000000                     264.000000   \n",
       "mean       386.515152                     195.632576   \n",
       "std        962.927855                     449.189762   \n",
       "min          0.000000                       0.000000   \n",
       "25%         50.000000                      21.750000   \n",
       "50%        178.000000                      81.000000   \n",
       "75%        435.750000                     213.000000   \n",
       "max      14037.000000                    5640.000000   \n",
       "\n",
       "       Applications_First_Entry_Female  Applications_First_Entry_Total  \\\n",
       "count                       264.000000                      264.000000   \n",
       "mean                        197.015152                      392.647727   \n",
       "std                         487.971669                      934.234735   \n",
       "min                           0.000000                        0.000000   \n",
       "25%                          23.000000                       46.000000   \n",
       "50%                          76.500000                      152.500000   \n",
       "75%                         202.000000                      398.250000   \n",
       "max                        6437.000000                    12077.000000   \n",
       "\n",
       "       First_Entry_Male  First_Entry_Female  First_Entry_Total  \\\n",
       "count        264.000000          264.000000         264.000000   \n",
       "mean         152.765152          150.314394         303.079545   \n",
       "std          381.728774          421.103705         800.276429   \n",
       "min            0.000000            0.000000           0.000000   \n",
       "25%           20.500000           21.000000          40.000000   \n",
       "50%           69.500000           67.000000         139.000000   \n",
       "75%          173.250000          163.250000         337.750000   \n",
       "max         5639.000000         6437.000000       12076.000000   \n",
       "\n",
       "       Enrollment_Male  Enrollment_women  Enrollment_Total  All_Graduate_Male  \\\n",
       "count       264.000000        264.000000        264.000000         264.000000   \n",
       "mean        526.939394        541.386364       1068.325758          80.348485   \n",
       "std         694.250788        734.291279       1420.135700          90.299248   \n",
       "min           0.000000          0.000000          0.000000           0.000000   \n",
       "25%          97.000000         84.500000        180.000000          19.000000   \n",
       "50%         293.500000        283.500000        623.000000          48.500000   \n",
       "75%         691.250000        685.000000       1363.750000         109.250000   \n",
       "max        6534.000000       7276.000000      13810.000000         455.000000   \n",
       "\n",
       "       All_Graduate_Female  All_Graduate  Graduate_with_Diploma_Male  \\\n",
       "count           264.000000    264.000000                  264.000000   \n",
       "mean             90.227273    170.575758                   55.231061   \n",
       "std             103.393493    191.385408                   65.834246   \n",
       "min               0.000000      0.000000                    0.000000   \n",
       "25%              16.750000     41.250000                   11.000000   \n",
       "50%              57.000000    100.500000                   33.500000   \n",
       "75%             119.000000    225.250000                   75.000000   \n",
       "max             549.000000    985.000000                  366.000000   \n",
       "\n",
       "       Graduate_with_Diploma_Female  Graduate_with_Diploma_Total  Count  \n",
       "count                    264.000000                   264.000000  264.0  \n",
       "mean                      63.087121                   118.318182    1.0  \n",
       "std                       75.299680                   139.396653    0.0  \n",
       "min                        0.000000                     0.000000    1.0  \n",
       "25%                       12.000000                    23.000000    1.0  \n",
       "50%                       34.500000                    72.000000    1.0  \n",
       "75%                       82.500000                   162.250000    1.0  \n",
       "max                      393.000000                   757.000000    1.0  "
      ]
     },
     "execution_count": 22,
     "metadata": {},
     "output_type": "execute_result"
    }
   ],
   "source": [
    "# check description\n",
    "dfs_UVM_final.describe()"
   ]
  },
  {
   "cell_type": "markdown",
   "metadata": {},
   "source": [
    "### Number of institutions and offered places\n",
    "\n",
    "The first aspect that stands out is that the number of UVM institutions has increased over the four selected periods. In 2016-2017, UVM had 64 institutions in total and offered around 21,000 places. By contrast, in the period 2019-2020, UVM has 70 institutions and offers around 32,000 places. "
   ]
  },
  {
   "cell_type": "code",
   "execution_count": 23,
   "metadata": {},
   "outputs": [
    {
     "data": {
      "text/html": [
       "<div>\n",
       "<style scoped>\n",
       "    .dataframe tbody tr th:only-of-type {\n",
       "        vertical-align: middle;\n",
       "    }\n",
       "\n",
       "    .dataframe tbody tr th {\n",
       "        vertical-align: top;\n",
       "    }\n",
       "\n",
       "    .dataframe thead th {\n",
       "        text-align: right;\n",
       "    }\n",
       "</style>\n",
       "<table border=\"1\" class=\"dataframe\">\n",
       "  <thead>\n",
       "    <tr style=\"text-align: right;\">\n",
       "      <th></th>\n",
       "      <th>Num. of institutes</th>\n",
       "      <th>Offered places</th>\n",
       "    </tr>\n",
       "    <tr>\n",
       "      <th>period</th>\n",
       "      <th></th>\n",
       "      <th></th>\n",
       "    </tr>\n",
       "  </thead>\n",
       "  <tbody>\n",
       "    <tr>\n",
       "      <th>2016-2017</th>\n",
       "      <td>64</td>\n",
       "      <td>21358.0</td>\n",
       "    </tr>\n",
       "    <tr>\n",
       "      <th>2017-2018</th>\n",
       "      <td>64</td>\n",
       "      <td>27331.0</td>\n",
       "    </tr>\n",
       "    <tr>\n",
       "      <th>2018-2019</th>\n",
       "      <td>66</td>\n",
       "      <td>21306.0</td>\n",
       "    </tr>\n",
       "    <tr>\n",
       "      <th>2019-2020</th>\n",
       "      <td>70</td>\n",
       "      <td>32045.0</td>\n",
       "    </tr>\n",
       "  </tbody>\n",
       "</table>\n",
       "</div>"
      ],
      "text/plain": [
       "           Num. of institutes  Offered places\n",
       "period                                       \n",
       "2016-2017                  64         21358.0\n",
       "2017-2018                  64         27331.0\n",
       "2018-2019                  66         21306.0\n",
       "2019-2020                  70         32045.0"
      ]
     },
     "execution_count": 23,
     "metadata": {},
     "output_type": "execute_result"
    }
   ],
   "source": [
    "# number of institutions has been increasing\n",
    "UVM_by_period = dfs_UVM_final.groupby('period').sum()\n",
    "UVM_by_period[['Count','Offered_places']].rename(columns={\"Count\":\"Num. of institutes\",\"Offered_places\":\"Offered places\"}) #.pct_change().fillna(0)*100"
   ]
  },
  {
   "cell_type": "markdown",
   "metadata": {},
   "source": [
    "### Total students in UVM by category and by modality (2019-2020)\n",
    "\n",
    "For the period of 2019-2020, the total number of \"Enrolled\" students in onsite programs is larger than in online programs. Noneheless, **the total number of \"First year\" students in online programs is larger than in onsite programs**. Also, the number of \"New Applicants\" (here indicated as \"Applications\") in online programs is almost as large as in onsite programs.\n"
   ]
  },
  {
   "cell_type": "code",
   "execution_count": 24,
   "metadata": {},
   "outputs": [
    {
     "data": {
      "text/html": [
       "\n",
       "        <iframe\n",
       "            width=\"100%\"\n",
       "            height=\"525px\"\n",
       "            src=\"https://plotly.com/~svaldes.salas/649.embed\"\n",
       "            frameborder=\"0\"\n",
       "            allowfullscreen\n",
       "        ></iframe>\n",
       "        "
      ],
      "text/plain": [
       "<IPython.lib.display.IFrame at 0x7fda89e37310>"
      ]
     },
     "execution_count": 24,
     "metadata": {},
     "output_type": "execute_result"
    }
   ],
   "source": [
    "from graphs import graph7\n",
    "graph7(dfs_UVM_final)"
   ]
  },
  {
   "cell_type": "markdown",
   "metadata": {},
   "source": [
    "### Distribution of students by category and by modality (2016-2017)\n",
    "\n",
    "To understand online vs onsite dynamics at UVM, let's compare the distribution of students by category. In 2016-2017, onsite programs attracted more people. Whereas, in 2019-2020 (chart below), the proportion of students in online programs grew in each category."
   ]
  },
  {
   "cell_type": "code",
   "execution_count": 25,
   "metadata": {
    "scrolled": true
   },
   "outputs": [
    {
     "data": {
      "image/png": "[encoded data removed]",
      "text/plain": [
       "<Figure size 936x360 with 1 Axes>"
      ]
     },
     "metadata": {},
     "output_type": "display_data"
    }
   ],
   "source": [
    "from graphs import graph9\n",
    "distribution_prev = graph9(dfs_UVM_final)"
   ]
  },
  {
   "cell_type": "code",
   "execution_count": 26,
   "metadata": {},
   "outputs": [
    {
     "data": {
      "text/html": [
       "<div>\n",
       "<style scoped>\n",
       "    .dataframe tbody tr th:only-of-type {\n",
       "        vertical-align: middle;\n",
       "    }\n",
       "\n",
       "    .dataframe tbody tr th {\n",
       "        vertical-align: top;\n",
       "    }\n",
       "\n",
       "    .dataframe thead th {\n",
       "        text-align: right;\n",
       "    }\n",
       "</style>\n",
       "<table border=\"1\" class=\"dataframe\">\n",
       "  <thead>\n",
       "    <tr style=\"text-align: right;\">\n",
       "      <th>modality</th>\n",
       "      <th>onsite</th>\n",
       "      <th>online</th>\n",
       "    </tr>\n",
       "  </thead>\n",
       "  <tbody>\n",
       "    <tr>\n",
       "      <th>Applications</th>\n",
       "      <td>81.230928</td>\n",
       "      <td>18.769072</td>\n",
       "    </tr>\n",
       "    <tr>\n",
       "      <th>First year</th>\n",
       "      <td>80.737470</td>\n",
       "      <td>19.262530</td>\n",
       "    </tr>\n",
       "    <tr>\n",
       "      <th>Enrolled</th>\n",
       "      <td>82.353659</td>\n",
       "      <td>17.646341</td>\n",
       "    </tr>\n",
       "    <tr>\n",
       "      <th>Graduate</th>\n",
       "      <td>75.412794</td>\n",
       "      <td>24.587206</td>\n",
       "    </tr>\n",
       "  </tbody>\n",
       "</table>\n",
       "</div>"
      ],
      "text/plain": [
       "modality         onsite     online\n",
       "Applications  81.230928  18.769072\n",
       "First year    80.737470  19.262530\n",
       "Enrolled      82.353659  17.646341\n",
       "Graduate      75.412794  24.587206"
      ]
     },
     "execution_count": 26,
     "metadata": {},
     "output_type": "execute_result"
    }
   ],
   "source": [
    "distribution_prev"
   ]
  },
  {
   "cell_type": "markdown",
   "metadata": {},
   "source": [
    "### Distribution of students by category and by modality (2019-2020)\n",
    "\n",
    "It is worth noting that the proportion of Firt Year students in online programs is larger than in onsite programs. And it seems the proportion of students in online programs is growing in the rest of the categories (\"Applications\", \"Enrolled\", and \"Graduate\")."
   ]
  },
  {
   "cell_type": "code",
   "execution_count": 27,
   "metadata": {},
   "outputs": [
    {
     "data": {
      "image/png": "[encoded data removed]",
      "text/plain": [
       "<Figure size 936x360 with 1 Axes>"
      ]
     },
     "metadata": {},
     "output_type": "display_data"
    }
   ],
   "source": [
    "from graphs import graph8\n",
    "distribution_last = graph8(dfs_UVM_final)"
   ]
  },
  {
   "cell_type": "code",
   "execution_count": 28,
   "metadata": {},
   "outputs": [
    {
     "data": {
      "text/html": [
       "<div>\n",
       "<style scoped>\n",
       "    .dataframe tbody tr th:only-of-type {\n",
       "        vertical-align: middle;\n",
       "    }\n",
       "\n",
       "    .dataframe tbody tr th {\n",
       "        vertical-align: top;\n",
       "    }\n",
       "\n",
       "    .dataframe thead th {\n",
       "        text-align: right;\n",
       "    }\n",
       "</style>\n",
       "<table border=\"1\" class=\"dataframe\">\n",
       "  <thead>\n",
       "    <tr style=\"text-align: right;\">\n",
       "      <th>modality</th>\n",
       "      <th>onsite</th>\n",
       "      <th>online</th>\n",
       "    </tr>\n",
       "  </thead>\n",
       "  <tbody>\n",
       "    <tr>\n",
       "      <th>Applications</th>\n",
       "      <td>57.262661</td>\n",
       "      <td>42.737339</td>\n",
       "    </tr>\n",
       "    <tr>\n",
       "      <th>First year</th>\n",
       "      <td>46.889792</td>\n",
       "      <td>53.110208</td>\n",
       "    </tr>\n",
       "    <tr>\n",
       "      <th>Enrolled</th>\n",
       "      <td>71.057402</td>\n",
       "      <td>28.942598</td>\n",
       "    </tr>\n",
       "    <tr>\n",
       "      <th>Graduate</th>\n",
       "      <td>72.792558</td>\n",
       "      <td>27.207442</td>\n",
       "    </tr>\n",
       "  </tbody>\n",
       "</table>\n",
       "</div>"
      ],
      "text/plain": [
       "modality         onsite     online\n",
       "Applications  57.262661  42.737339\n",
       "First year    46.889792  53.110208\n",
       "Enrolled      71.057402  28.942598\n",
       "Graduate      72.792558  27.207442"
      ]
     },
     "execution_count": 28,
     "metadata": {},
     "output_type": "execute_result"
    }
   ],
   "source": [
    "distribution_last"
   ]
  },
  {
   "attachments": {},
   "cell_type": "markdown",
   "metadata": {},
   "source": [
    "### Applications as a percentage of offered places by modalities (onsite and online)\n",
    "\n",
    "\n",
    "The following graph displays the percentage of total offered places at UVM in onsite and online modalities. This can be considered a useful indicator that tells us how much attractiveness the university has among the target population (young people applying to university programs). \n",
    "\n",
    "In the first two periods (2016-2017 and 2017-2018), the number of applications received were less than the offered places. But, in the period 2018-2019, the number of applicants surpassed the total number of offered places in both modalities (onsite and online). \n",
    "\n",
    "In the last period (2019-2020), the total of applications remains once more below the total of offered places in online education. The reason is that the number of offered places for online studying incremented dramatically. "
   ]
  },
  {
   "cell_type": "code",
   "execution_count": 29,
   "metadata": {},
   "outputs": [
    {
     "data": {
      "text/html": [
       "\n",
       "        <iframe\n",
       "            width=\"100%\"\n",
       "            height=\"525px\"\n",
       "            src=\"https://plotly.com/~svaldes.salas/651.embed\"\n",
       "            frameborder=\"0\"\n",
       "            allowfullscreen\n",
       "        ></iframe>\n",
       "        "
      ],
      "text/plain": [
       "<IPython.lib.display.IFrame at 0x7fda8a2b85d0>"
      ]
     },
     "execution_count": 29,
     "metadata": {},
     "output_type": "execute_result"
    }
   ],
   "source": [
    "from graphs import graph10\n",
    "graph10(dfs_UVM_final)"
   ]
  },
  {
   "attachments": {},
   "cell_type": "markdown",
   "metadata": {},
   "source": [
    "### Offered places in online and onsite modalities at UVM (from 2016-2017 to 2019-2020)\n",
    "\n",
    "The number of offered places for online studying grew 4 times from the period 2018-2019 to the period 2019-2020. The latter suggests two things: \n",
    "\n",
    "1. UVM is attracting new applicants for online education.\n",
    "2. UVM has the ability to rapidly adapt to new market trends. Specifically, it has adapted to the surge on the demand for online learning."
   ]
  },
  {
   "cell_type": "code",
   "execution_count": 30,
   "metadata": {
    "scrolled": false
   },
   "outputs": [
    {
     "data": {
      "image/png": "[encoded data removed]",
      "text/plain": [
       "<Figure size 720x504 with 1 Axes>"
      ]
     },
     "metadata": {},
     "output_type": "display_data"
    }
   ],
   "source": [
    "from graphs import graph11\n",
    "graph11(dfs_UVM_final)"
   ]
  },
  {
   "cell_type": "markdown",
   "metadata": {},
   "source": [
    "### Change of enrollment at UVM by state (2016-2017 vs 2019-2020)\n",
    "\n",
    "The number of \"Enrolled\" students at UVM has mostly increased in Mexico City, Nuevo Leon, Tamaulipas, Tabasco, and Chihuahua. On the other hand, its market is shrinking particularly in Coahuila, Jalisco, Caja California, Morelos."
   ]
  },
  {
   "cell_type": "code",
   "execution_count": 31,
   "metadata": {},
   "outputs": [
    {
     "data": {
      "image/png": "[encoded data removed]",
      "text/plain": [
       "<Figure size 1008x432 with 1 Axes>"
      ]
     },
     "metadata": {},
     "output_type": "display_data"
    }
   ],
   "source": [
    "# enrollment by state: change between 2016-2017 and 2019-2020\n",
    "from graphs import graph10b\n",
    "df_geographic_scope = graph10b(dfs_UVM_final)"
   ]
  },
  {
   "cell_type": "markdown",
   "metadata": {},
   "source": [
    "### Applications as a percentage of offered places at UVM (2019-2020)\n",
    "\n",
    "For the period 2019-2020, the State of Mexico, Veracruz, Tamaulipas, Queretaro, and Chiapas have a larger number of applicants than places offered by the University in each region. Chihuahua, Sonora, and Puebla also registered a high number of applications. In these regions we could expect an expansion of the University, specially in Chihuahua and Tamaulipas (where the number of \"Enrolled students\" has rapidly increased as pointed by the previous graph)."
   ]
  },
  {
   "cell_type": "code",
   "execution_count": 32,
   "metadata": {},
   "outputs": [
    {
     "data": {
      "image/png": "[encoded data removed]",
      "text/plain": [
       "<Figure size 1008x432 with 1 Axes>"
      ]
     },
     "metadata": {},
     "output_type": "display_data"
    }
   ],
   "source": [
    "# applications as percentage of offered places by state in 2019-2020\n",
    "from graphs import graph10c\n",
    "graph10c(dfs_UVM_final)"
   ]
  },
  {
   "cell_type": "markdown",
   "metadata": {},
   "source": [
    "## 3. Key players ot the market and top competitors of UVM for the period 2019-2020"
   ]
  },
  {
   "attachments": {},
   "cell_type": "markdown",
   "metadata": {},
   "source": [
    "The following criteria was used for selecting key players of the market:\n",
    "1. **\"Enrolled\" students**. This criterion tells us about the size of the institutions in the country. \n",
    "\n",
    "*Threshold: >2% of \"Enrolled\" students.* A player was considered top if it contributed with more than 2% to the total number of enrolled students for the selected period.\n",
    "\n",
    "2. **Number of \"New Applications\"**. This criterion tells us about the attractiveness of the institutions for the target population. \n",
    "\n",
    "*Threshold: top 15.* The 15 institutions with the largest number of applications in the selected period were considered.\n",
    "\n",
    "Once the key players were identified (based on the previous criteria), the competitors of UVM were selected according to the number of programs/careers similar to the programs/careers offer by UVM. The five competitors with the largest number of similar programs/careers with UVM, were selected. **With this method, it was possible to the identify: (1) the most relevant competitors in the market (based on size and attractiveness), and (2) the closest competitors of UVM.**"
   ]
  },
  {
   "attachments": {},
   "cell_type": "markdown",
   "metadata": {},
   "source": [
    "### Enrolled students in private institutes by modality (2019-2020)\n",
    "\n",
    "The **private-onsite education market** is highly concentrated: there are four key players: \n",
    "- UNITEC (1st place) has 5% of the total number of enrolled students in Mexico, followed by UVM with 4.6%\n",
    "- The four players account for 17% of the market\n",
    "\n",
    "The **private-online education market** is more competitive: there are eight key players. \n",
    "- UNID (1st place) has 4.7% of the total number of enrolled students in Mexico, while UVM (fourth place) has 4%\n",
    "- The eight players account for 29% of the market\n"
   ]
  },
  {
   "cell_type": "code",
   "execution_count": 33,
   "metadata": {},
   "outputs": [],
   "source": [
    "# define lists of copmetitors\n",
    "competitors_onsite = []\n",
    "competitors_online = []"
   ]
  },
  {
   "cell_type": "code",
   "execution_count": 34,
   "metadata": {},
   "outputs": [
    {
     "name": "stdout",
     "output_type": "stream",
     "text": [
      "Total players in onsite learning in 2019-2020 =  2063\n",
      "Total players in online learning in 2019-2020 =  1119\n"
     ]
    },
    {
     "data": {
      "text/html": [
       "\n",
       "        <iframe\n",
       "            width=\"100%\"\n",
       "            height=\"525px\"\n",
       "            src=\"https://plotly.com/~svaldes.salas/653.embed\"\n",
       "            frameborder=\"0\"\n",
       "            allowfullscreen\n",
       "        ></iframe>\n",
       "        "
      ],
      "text/plain": [
       "<IPython.lib.display.IFrame at 0x7fda89ab6390>"
      ]
     },
     "execution_count": 34,
     "metadata": {},
     "output_type": "execute_result"
    }
   ],
   "source": [
    "from graphs import graph12\n",
    "g12, competitors_onsite, competitors_online = graph12(dfs_all, competitors_onsite, competitors_online)\n",
    "g12"
   ]
  },
  {
   "cell_type": "code",
   "execution_count": 35,
   "metadata": {},
   "outputs": [
    {
     "data": {
      "text/plain": [
       "['UNIVERSIDAD TECNOLÓGICA DE MÉXICO',\n",
       " 'UNIVERSIDAD DEL VALLE DE MÉXICO',\n",
       " 'INSTITUTO TECNOLÓGICO Y DE ESTUDIOS SUPERIORES DE MONTERREY']"
      ]
     },
     "execution_count": 35,
     "metadata": {},
     "output_type": "execute_result"
    }
   ],
   "source": [
    "competitors_onsite"
   ]
  },
  {
   "cell_type": "code",
   "execution_count": 36,
   "metadata": {},
   "outputs": [
    {
     "data": {
      "text/plain": [
       "['UNIVERSIDAD TECNOLÓGICA DE MÉXICO',\n",
       " 'UNIVERSIDAD DEL VALLE DE MÉXICO',\n",
       " 'INSTITUTO TECNOLÓGICO Y DE ESTUDIOS SUPERIORES DE MONTERREY']"
      ]
     },
     "execution_count": 36,
     "metadata": {},
     "output_type": "execute_result"
    }
   ],
   "source": [
    "competitors_onsite"
   ]
  },
  {
   "attachments": {},
   "cell_type": "markdown",
   "metadata": {},
   "source": [
    "### Private institutions with the highest number of applications in 2019-2020 (onsite modality)\n",
    "\n",
    "UVM is the second institution in Mexico that has largest number of new applications for onsite modality for the selected period."
   ]
  },
  {
   "cell_type": "code",
   "execution_count": 37,
   "metadata": {},
   "outputs": [
    {
     "data": {
      "text/html": [
       "\n",
       "        <iframe\n",
       "            width=\"100%\"\n",
       "            height=\"525px\"\n",
       "            src=\"https://plotly.com/~svaldes.salas/655.embed\"\n",
       "            frameborder=\"0\"\n",
       "            allowfullscreen\n",
       "        ></iframe>\n",
       "        "
      ],
      "text/plain": [
       "<IPython.lib.display.IFrame at 0x7fda89aa8e50>"
      ]
     },
     "execution_count": 37,
     "metadata": {},
     "output_type": "execute_result"
    }
   ],
   "source": [
    "from graphs import graph13\n",
    "g13, competitors_onsite = graph13(dfs_all, competitors_onsite)\n",
    "g13"
   ]
  },
  {
   "attachments": {},
   "cell_type": "markdown",
   "metadata": {},
   "source": [
    "### Private institutions with the highest number of applications in 2019-2020 (online modality)\n",
    "\n",
    "UVM is the institution in Mexico with the largest number of new applications for online modality for the selected period."
   ]
  },
  {
   "cell_type": "code",
   "execution_count": 38,
   "metadata": {},
   "outputs": [
    {
     "data": {
      "text/html": [
       "\n",
       "        <iframe\n",
       "            width=\"100%\"\n",
       "            height=\"525px\"\n",
       "            src=\"https://plotly.com/~svaldes.salas/657.embed\"\n",
       "            frameborder=\"0\"\n",
       "            allowfullscreen\n",
       "        ></iframe>\n",
       "        "
      ],
      "text/plain": [
       "<IPython.lib.display.IFrame at 0x7fda89f53850>"
      ]
     },
     "execution_count": 38,
     "metadata": {},
     "output_type": "execute_result"
    }
   ],
   "source": [
    "from graphs import graph14\n",
    "g14, competitors_online = graph14(dfs_all, competitors_online)\n",
    "g14"
   ]
  },
  {
   "cell_type": "markdown",
   "metadata": {},
   "source": [
    "### Similarity of programs/careers between UVM and other key players"
   ]
  },
  {
   "cell_type": "code",
   "execution_count": 39,
   "metadata": {},
   "outputs": [],
   "source": [
    "# remove UVM\n",
    "competitors_onsite.remove('UNIVERSIDAD DEL VALLE DE MÉXICO')\n",
    "competitors_online.remove('UNIVERSIDAD DEL VALLE DE MÉXICO')"
   ]
  },
  {
   "cell_type": "code",
   "execution_count": 40,
   "metadata": {},
   "outputs": [
    {
     "data": {
      "text/html": [
       "<div>\n",
       "<style scoped>\n",
       "    .dataframe tbody tr th:only-of-type {\n",
       "        vertical-align: middle;\n",
       "    }\n",
       "\n",
       "    .dataframe tbody tr th {\n",
       "        vertical-align: top;\n",
       "    }\n",
       "\n",
       "    .dataframe thead th {\n",
       "        text-align: right;\n",
       "    }\n",
       "</style>\n",
       "<table border=\"1\" class=\"dataframe\">\n",
       "  <thead>\n",
       "    <tr style=\"text-align: right;\">\n",
       "      <th></th>\n",
       "      <th>onsite_2019-2020</th>\n",
       "    </tr>\n",
       "  </thead>\n",
       "  <tbody>\n",
       "    <tr>\n",
       "      <th>UNIVERSIDAD TECNOLÓGICA DE MÉXICO</th>\n",
       "      <td>33</td>\n",
       "    </tr>\n",
       "    <tr>\n",
       "      <th>UNIVERSIDAD ANÁHUAC</th>\n",
       "      <td>33</td>\n",
       "    </tr>\n",
       "    <tr>\n",
       "      <th>UNIVERSIDAD POPULAR AUTÓNOMA DEL ESTADO DE PUEBLA</th>\n",
       "      <td>27</td>\n",
       "    </tr>\n",
       "    <tr>\n",
       "      <th>INSTITUTO TECNOLÓGICO Y DE ESTUDIOS SUPERIORES DE MONTERREY</th>\n",
       "      <td>26</td>\n",
       "    </tr>\n",
       "    <tr>\n",
       "      <th>UNIVERSIDAD AUTÓNOMA DE GUADALAJARA</th>\n",
       "      <td>24</td>\n",
       "    </tr>\n",
       "    <tr>\n",
       "      <th>UNIVERSIDAD AUTÓNOMA DE DURANGO A.C.</th>\n",
       "      <td>20</td>\n",
       "    </tr>\n",
       "    <tr>\n",
       "      <th>UNIVERSIDAD VIZCAYA DE LAS AMÉRICAS</th>\n",
       "      <td>16</td>\n",
       "    </tr>\n",
       "    <tr>\n",
       "      <th>UNIVERSIDAD DE MONTERREY</th>\n",
       "      <td>15</td>\n",
       "    </tr>\n",
       "    <tr>\n",
       "      <th>UNIVERSIDAD UNIVER</th>\n",
       "      <td>15</td>\n",
       "    </tr>\n",
       "    <tr>\n",
       "      <th>UNIVERSIDAD PANAMERICANA</th>\n",
       "      <td>15</td>\n",
       "    </tr>\n",
       "    <tr>\n",
       "      <th>INSTITUTO UNIVERSITARIO DEL CENTRO DE MÉXICO</th>\n",
       "      <td>14</td>\n",
       "    </tr>\n",
       "    <tr>\n",
       "      <th>UNIVERSIDAD DE ORIENTE, A.C.</th>\n",
       "      <td>13</td>\n",
       "    </tr>\n",
       "    <tr>\n",
       "      <th>UNIVERSIDAD INTERAMERICANA PARA EL DESARROLLO</th>\n",
       "      <td>13</td>\n",
       "    </tr>\n",
       "    <tr>\n",
       "      <th>UNIVERSIDAD MEXICANA</th>\n",
       "      <td>11</td>\n",
       "    </tr>\n",
       "  </tbody>\n",
       "</table>\n",
       "</div>"
      ],
      "text/plain": [
       "                                                    onsite_2019-2020\n",
       "UNIVERSIDAD TECNOLÓGICA DE MÉXICO                                 33\n",
       "UNIVERSIDAD ANÁHUAC                                               33\n",
       "UNIVERSIDAD POPULAR AUTÓNOMA DEL ESTADO DE PUEBLA                 27\n",
       "INSTITUTO TECNOLÓGICO Y DE ESTUDIOS SUPERIORES ...                26\n",
       "UNIVERSIDAD AUTÓNOMA DE GUADALAJARA                               24\n",
       "UNIVERSIDAD AUTÓNOMA DE DURANGO A.C.                              20\n",
       "UNIVERSIDAD VIZCAYA DE LAS AMÉRICAS                               16\n",
       "UNIVERSIDAD DE MONTERREY                                          15\n",
       "UNIVERSIDAD UNIVER                                                15\n",
       "UNIVERSIDAD PANAMERICANA                                          15\n",
       "INSTITUTO UNIVERSITARIO DEL CENTRO DE MÉXICO                      14\n",
       "UNIVERSIDAD DE ORIENTE, A.C.                                      13\n",
       "UNIVERSIDAD INTERAMERICANA PARA EL DESARROLLO                     13\n",
       "UNIVERSIDAD MEXICANA                                              11"
      ]
     },
     "execution_count": 40,
     "metadata": {},
     "output_type": "execute_result"
    }
   ],
   "source": [
    "# similarity - onsite education\n",
    "UVM_programs = df04[df04['Institute']=='UNIVERSIDAD DEL VALLE DE MÉXICO']['Program'].unique().tolist()\n",
    "similarity_grade = {}\n",
    "competitors_onsite\n",
    "for idx in range(len(competitors_onsite)):\n",
    "    name=competitors_onsite[idx]\n",
    "    programs = df04[df04['Institute']==name]['Program'].unique().tolist()\n",
    "    common_careers = [p for p in programs if p in UVM_programs]\n",
    "    similarity_grade[name]=len(common_careers)\n",
    "onsite_similarity = pd.DataFrame.from_dict(similarity_grade,orient='index').rename(columns={0:\"onsite_2019-2020\"}).sort_values('onsite_2019-2020',ascending=False)\n",
    "onsite_similarity"
   ]
  },
  {
   "cell_type": "code",
   "execution_count": 41,
   "metadata": {},
   "outputs": [
    {
     "data": {
      "text/html": [
       "<div>\n",
       "<style scoped>\n",
       "    .dataframe tbody tr th:only-of-type {\n",
       "        vertical-align: middle;\n",
       "    }\n",
       "\n",
       "    .dataframe tbody tr th {\n",
       "        vertical-align: top;\n",
       "    }\n",
       "\n",
       "    .dataframe thead th {\n",
       "        text-align: right;\n",
       "    }\n",
       "</style>\n",
       "<table border=\"1\" class=\"dataframe\">\n",
       "  <thead>\n",
       "    <tr style=\"text-align: right;\">\n",
       "      <th></th>\n",
       "      <th>online_2019-2020</th>\n",
       "    </tr>\n",
       "  </thead>\n",
       "  <tbody>\n",
       "    <tr>\n",
       "      <th>ENSEÑANZA E INVESTIGACIÓN SUPERIOR, A.C.</th>\n",
       "      <td>9</td>\n",
       "    </tr>\n",
       "    <tr>\n",
       "      <th>UNIVERSIDAD TECNOLÓGICA LATINOAMERICANA EN LÍNEA</th>\n",
       "      <td>9</td>\n",
       "    </tr>\n",
       "    <tr>\n",
       "      <th>UNIVERSIDAD LATINOAMERICANA, S.C.</th>\n",
       "      <td>9</td>\n",
       "    </tr>\n",
       "    <tr>\n",
       "      <th>UNIVERSIDAD INTERAMERICANA PARA EL DESARROLLO</th>\n",
       "      <td>7</td>\n",
       "    </tr>\n",
       "    <tr>\n",
       "      <th>INSTITUTO DE ESTUDIOS UNIVERSITARIOS, A.C.</th>\n",
       "      <td>7</td>\n",
       "    </tr>\n",
       "    <tr>\n",
       "      <th>UNIVERSIDAD TECNOLÓGICA DE MÉXICO</th>\n",
       "      <td>6</td>\n",
       "    </tr>\n",
       "    <tr>\n",
       "      <th>UNIVERSIDAD DE LOS ÁNGELES</th>\n",
       "      <td>5</td>\n",
       "    </tr>\n",
       "    <tr>\n",
       "      <th>UNIVERSIDAD TANGAMANGA</th>\n",
       "      <td>5</td>\n",
       "    </tr>\n",
       "    <tr>\n",
       "      <th>UNIVERSIDAD CNCI</th>\n",
       "      <td>4</td>\n",
       "    </tr>\n",
       "    <tr>\n",
       "      <th>UNIVERSIDAD VALLE DEL GRIJALVA</th>\n",
       "      <td>4</td>\n",
       "    </tr>\n",
       "    <tr>\n",
       "      <th>INSTITUTO AZTECA DE FORMACIÓN EMPRESARIAL</th>\n",
       "      <td>4</td>\n",
       "    </tr>\n",
       "    <tr>\n",
       "      <th>UNIVERSIDAD INSURGENTES</th>\n",
       "      <td>4</td>\n",
       "    </tr>\n",
       "    <tr>\n",
       "      <th>UNIVERSIDAD MEXICANA</th>\n",
       "      <td>3</td>\n",
       "    </tr>\n",
       "    <tr>\n",
       "      <th>UNIVERSIDAD VIZCAYA DE LAS AMÉRICAS</th>\n",
       "      <td>3</td>\n",
       "    </tr>\n",
       "    <tr>\n",
       "      <th>UNIVERSIDAD INTERNACIONAL IBEROAMERICANA</th>\n",
       "      <td>1</td>\n",
       "    </tr>\n",
       "  </tbody>\n",
       "</table>\n",
       "</div>"
      ],
      "text/plain": [
       "                                                  online_2019-2020\n",
       "ENSEÑANZA E INVESTIGACIÓN SUPERIOR, A.C.                         9\n",
       "UNIVERSIDAD TECNOLÓGICA LATINOAMERICANA EN LÍNEA                 9\n",
       "UNIVERSIDAD LATINOAMERICANA, S.C.                                9\n",
       "UNIVERSIDAD INTERAMERICANA PARA EL DESARROLLO                    7\n",
       "INSTITUTO DE ESTUDIOS UNIVERSITARIOS, A.C.                       7\n",
       "UNIVERSIDAD TECNOLÓGICA DE MÉXICO                                6\n",
       "UNIVERSIDAD DE LOS ÁNGELES                                       5\n",
       "UNIVERSIDAD TANGAMANGA                                           5\n",
       "UNIVERSIDAD CNCI                                                 4\n",
       "UNIVERSIDAD VALLE DEL GRIJALVA                                   4\n",
       "INSTITUTO AZTECA DE FORMACIÓN EMPRESARIAL                        4\n",
       "UNIVERSIDAD INSURGENTES                                          4\n",
       "UNIVERSIDAD MEXICANA                                             3\n",
       "UNIVERSIDAD VIZCAYA DE LAS AMÉRICAS                              3\n",
       "UNIVERSIDAD INTERNACIONAL IBEROAMERICANA                         1"
      ]
     },
     "execution_count": 41,
     "metadata": {},
     "output_type": "execute_result"
    }
   ],
   "source": [
    "# similarity - online education\n",
    "UVM_programs = df04_online[df04_online['Institute']=='UNIVERSIDAD DEL VALLE DE MÉXICO']['Program'].unique().tolist()\n",
    "similarity_grade = {}\n",
    "competitors_online\n",
    "for idx in range(len(competitors_online)):\n",
    "    name=competitors_online[idx]\n",
    "    programs = df04_online[df04_online['Institute']==name]['Program'].unique().tolist()\n",
    "    common_careers = [p for p in programs if p in UVM_programs]\n",
    "    similarity_grade[name]=len(common_careers)\n",
    "online_similarity = pd.DataFrame.from_dict(similarity_grade,orient='index').rename(columns={0:\"online_2019-2020\"}).sort_values('online_2019-2020',ascending=False)\n",
    "online_similarity"
   ]
  },
  {
   "cell_type": "code",
   "execution_count": 42,
   "metadata": {},
   "outputs": [],
   "source": [
    "final_onsite_competitors = onsite_similarity[:5].index.tolist()#.append('UNIVERSIDAD DEL VALLE DE MÉXICO')\n",
    "final_online_competitors = online_similarity[:5].index.tolist()#.append('UNIVERSIDAD DEL VALLE DE MÉXICO')\n",
    "final_onsite_competitors.append('UNIVERSIDAD DEL VALLE DE MÉXICO')\n",
    "final_online_competitors.append('UNIVERSIDAD DEL VALLE DE MÉXICO')  "
   ]
  },
  {
   "cell_type": "markdown",
   "metadata": {},
   "source": [
    "### How does UVM performs with respect to its closest onsite competitors in 2019-2020?\n",
    "\n",
    "In 2019-2020, UVM had the third largest number of \"New Applicants\" (here indicated as \"First entry\") in the onsite modality. However, the number of \"New Applicants\" has decreased when comparing this period with respect to the 2016-2017.\n",
    "\n",
    "In the case of \"Enrollment\", in 2019-2020 UVM had the second largest number of \"Enrolled\" students in the onsite modality. However, UVM has reported the least increment of this category among its competitors between this period and 2016-2017."
   ]
  },
  {
   "cell_type": "code",
   "execution_count": 43,
   "metadata": {},
   "outputs": [
    {
     "data": {
      "text/plain": [
       "['UNIVERSIDAD TECNOLÓGICA DE MÉXICO',\n",
       " 'UNIVERSIDAD ANÁHUAC',\n",
       " 'UNIVERSIDAD POPULAR AUTÓNOMA DEL ESTADO DE PUEBLA',\n",
       " 'INSTITUTO TECNOLÓGICO Y DE ESTUDIOS SUPERIORES DE MONTERREY',\n",
       " 'UNIVERSIDAD AUTÓNOMA DE GUADALAJARA',\n",
       " 'UNIVERSIDAD DEL VALLE DE MÉXICO']"
      ]
     },
     "execution_count": 43,
     "metadata": {},
     "output_type": "execute_result"
    }
   ],
   "source": [
    "final_onsite_competitors"
   ]
  },
  {
   "cell_type": "code",
   "execution_count": 44,
   "metadata": {},
   "outputs": [
    {
     "data": {
      "image/png": "[encoded data removed]",
      "text/plain": [
       "<Figure size 1152x432 with 2 Axes>"
      ]
     },
     "metadata": {},
     "output_type": "display_data"
    }
   ],
   "source": [
    "from graphs import graph15\n",
    "graph15(dfs_all, final_onsite_competitors)"
   ]
  },
  {
   "cell_type": "code",
   "execution_count": 45,
   "metadata": {},
   "outputs": [
    {
     "data": {
      "image/png": "[encoded data removed]",
      "text/plain": [
       "<Figure size 1152x432 with 2 Axes>"
      ]
     },
     "metadata": {},
     "output_type": "display_data"
    }
   ],
   "source": [
    "from graphs import graph16\n",
    "graph16(dfs_all, final_onsite_competitors)"
   ]
  },
  {
   "cell_type": "markdown",
   "metadata": {},
   "source": [
    "### How does UVM performs with respect to its closest online competitors in 2019-2020?\n",
    "\n",
    "In 2019-2020, UVM had the **largest number of \"New Applicants\"** (here indicated as \"First entry\") in the online modality, a trend that is increasing as indicated by the percentage change between 2019-2020 and 2016-2017.\n",
    "\n",
    "In the case of \"Enrollment\", UVM is also a key player among its competitors. It reports an increasing trend of \"Enrolled\" students in the online modality."
   ]
  },
  {
   "cell_type": "code",
   "execution_count": 46,
   "metadata": {},
   "outputs": [
    {
     "data": {
      "text/plain": [
       "['ENSEÑANZA E INVESTIGACIÓN SUPERIOR, A.C.',\n",
       " 'UNIVERSIDAD TECNOLÓGICA LATINOAMERICANA EN LÍNEA',\n",
       " 'UNIVERSIDAD LATINOAMERICANA, S.C.',\n",
       " 'UNIVERSIDAD INTERAMERICANA PARA EL DESARROLLO',\n",
       " 'INSTITUTO DE ESTUDIOS UNIVERSITARIOS, A.C.',\n",
       " 'UNIVERSIDAD DEL VALLE DE MÉXICO']"
      ]
     },
     "execution_count": 46,
     "metadata": {},
     "output_type": "execute_result"
    }
   ],
   "source": [
    "final_online_competitors"
   ]
  },
  {
   "cell_type": "code",
   "execution_count": 47,
   "metadata": {},
   "outputs": [
    {
     "data": {
      "image/png": "[encoded data removed]",
      "text/plain": [
       "<Figure size 1152x432 with 2 Axes>"
      ]
     },
     "metadata": {},
     "output_type": "display_data"
    }
   ],
   "source": [
    "from graphs import graph17\n",
    "graph17(dfs_all, final_online_competitors)"
   ]
  },
  {
   "cell_type": "code",
   "execution_count": 48,
   "metadata": {},
   "outputs": [
    {
     "data": {
      "image/png": "[encoded data removed]",
      "text/plain": [
       "<Figure size 1152x432 with 2 Axes>"
      ]
     },
     "metadata": {},
     "output_type": "display_data"
    }
   ],
   "source": [
    "from graphs import graph18\n",
    "graph18(dfs_all, final_online_competitors)"
   ]
  },
  {
   "cell_type": "code",
   "execution_count": null,
   "metadata": {},
   "outputs": [],
   "source": []
  }
 ],
 "metadata": {
  "kernelspec": {
   "display_name": "Python 3",
   "language": "python",
   "name": "python3"
  },
  "language_info": {
   "codemirror_mode": {
    "name": "ipython",
    "version": 3
   },
   "file_extension": ".py",
   "mimetype": "text/x-python",
   "name": "python",
   "nbconvert_exporter": "python",
   "pygments_lexer": "ipython3",
   "version": "3.7.6"
  }
 },
 "nbformat": 4,
 "nbformat_minor": 4
}
